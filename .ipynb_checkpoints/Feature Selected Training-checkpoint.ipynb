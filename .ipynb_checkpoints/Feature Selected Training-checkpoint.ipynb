{
 "cells": [
  {
   "cell_type": "code",
   "execution_count": 1,
   "id": "ecea566d",
   "metadata": {},
   "outputs": [
    {
     "name": "stdout",
     "output_type": "stream",
     "text": [
      "File \"fraudTrain.csv\" loaded...\n",
      "amt                                                \t float64\n",
      "category                                           \t int32\n",
      "dob                                                \t int64\n",
      "gender                                             \t int32\n"
     ]
    }
   ],
   "source": [
    "import pandas as pd\n",
    "import numpy as np\n",
    "from sklearn.preprocessing import LabelEncoder\n",
    "from sklearn.tree import DecisionTreeClassifier, export_graphviz\n",
    "\n",
    "import time\n",
    "import datetime\n",
    "\n",
    "# returns data cols, data, target col, targets\n",
    "def load_ccfraud():\n",
    "    ds = pd.read_csv(\"dataset/fraudTrain.csv\")\n",
    "    print(\"File \\\"fraudTrain.csv\\\" loaded...\")\n",
    "\n",
    "    data_cols = [\"amt\", \"category\", \"dob\", \"gender\"]\n",
    "    target_col = \"is_fraud\"\n",
    "\n",
    "    return ds, data_cols, [ds[col] for col in data_cols], target_col, ds[target_col]\n",
    "\n",
    "dataframe, data_cols, data, target_col, target = load_ccfraud()\n",
    "\n",
    "\n",
    "\n",
    "labelEncoderTransformTypes = {}\n",
    "\n",
    "\n",
    "\n",
    "def getDobFormat(string):\n",
    "    return int(string.replace(\"-\", \"\"))\n",
    "\n",
    "def labelEncode(feature: str, dataframe, map):\n",
    "    le = LabelEncoder()\n",
    "    le.fit(dataframe[feature])\n",
    "    dataframe[feature] = le.transform(dataframe[feature])\n",
    "    map[feature] = le\n",
    "\n",
    "\n",
    "labelEncode(\"category\", dataframe, labelEncoderTransformTypes)\n",
    "labelEncode(\"gender\", dataframe, labelEncoderTransformTypes)\n",
    "\n",
    "dataframe[\"dob\"] = [getDobFormat(x) for x in dataframe[\"dob\"]]\n",
    "\n",
    "for x in data_cols:\n",
    "    print(x + (\" \" * (50 - len(x))), \"\\t\", dataframe[x].dtype)"
   ]
  },
  {
   "cell_type": "code",
   "execution_count": 2,
   "id": "4e1e4fd7",
   "metadata": {},
   "outputs": [],
   "source": [
    "def train(criterion, splitter, max_depth):\n",
    "    clf = DecisionTreeClassifier(criterion = criterion, splitter = splitter, max_depth = max_depth, random_state = 0)\n",
    "    clf.fit(dataframe[data_cols], target)\n",
    "    print(\"Trained with params:\\ncriterion:\" + criterion + \"   splitter:\" + splitter + \"   max_depth:\" + str(max_depth))\n",
    "    \n",
    "    # saveTree(clf)\n",
    "    \n",
    "    return clf"
   ]
  },
  {
   "cell_type": "code",
   "execution_count": 3,
   "id": "80f4220d",
   "metadata": {},
   "outputs": [
    {
     "name": "stdout",
     "output_type": "stream",
     "text": [
      "Loaded and transformed test dataframe...\n"
     ]
    }
   ],
   "source": [
    "from sklearn.metrics import accuracy_score, precision_score, recall_score, f1_score\n",
    "\n",
    "dataframe_test = pd.read_csv(\"dataset/fraudTest.csv\")\n",
    "\n",
    "\n",
    "for feature in labelEncoderTransformTypes:\n",
    "    dataframe_test[feature] = labelEncoderTransformTypes[feature].transform(dataframe_test[feature])\n",
    "\n",
    "dataframe_test[\"dob\"] = [getDobFormat(x) for x in dataframe_test[\"dob\"]]\n",
    "\n",
    "print(\"Loaded and transformed test dataframe...\")"
   ]
  },
  {
   "cell_type": "code",
   "execution_count": 3,
   "id": "09e0eaa1",
   "metadata": {},
   "outputs": [],
   "source": [
    "# Performance test\n",
    "\n",
    "def formatNumber(float):\n",
    "    return round(float * 100, 3)\n",
    "\n",
    "def performanceTest():\n",
    "    classifier = loadTree()\n",
    "    \n",
    "    y_test = dataframe_test[target_col]\n",
    "\n",
    "    y_pred = classifier.predict(dataframe_test[[x for x in data_cols]])\n",
    "\n",
    "    print(\"\\nAccuracy score: \", formatNumber(accuracy_score(y_test, y_pred)))\n",
    "    print(\"Precision score: \", formatNumber(precision_score(y_test, y_pred, average = \"macro\")))\n",
    "    print(\"Recall score: \", formatNumber(recall_score(y_test, y_pred, average = \"macro\")))\n",
    "    print(\"F1 score: \", formatNumber(f1_score(y_test, y_pred, average = \"macro\")))"
   ]
  },
  {
   "cell_type": "code",
   "execution_count": 10,
   "id": "e73b6afb",
   "metadata": {},
   "outputs": [
    {
     "name": "stdout",
     "output_type": "stream",
     "text": [
      "Trained with params:\n",
      "criterion:gini   splitter:best   max_depth:None\n",
      "['misc_net']\n",
      "['M']\n",
      "[0]\n"
     ]
    }
   ],
   "source": [
    "tree = train(\"entropy\", \"best\", 9)\n",
    "\n",
    "print(labelEncoderTransformTypes[\"category\"].inverse_transform([8]))\n",
    "print(labelEncoderTransformTypes[\"gender\"].inverse_transform([1]))\n",
    "\n",
    "# print(data_cols)\n",
    "print(tree.predict(pd.DataFrame([[ 780.52, 8, 19580910, 1 ]], columns = data_cols)))"
   ]
  },
  {
   "cell_type": "code",
   "execution_count": 11,
   "id": "829d9cca",
   "metadata": {},
   "outputs": [],
   "source": [
    "import pickle as pkl\n",
    "\n",
    "def saveTree(clf, lencoders):\n",
    "    with open(\"tree.pkl\", \"wb\") as f:\n",
    "        pkl.dump(clf, f, pkl.HIGHEST_PROTOCOL)\n",
    "    \n",
    "    with open(\"label_encoders.pkl\", \"wb\") as f:\n",
    "        pkl.dump(lencoders, f, pkl.HIGHEST_PROTOCOL)\n",
    "        \n",
    "def loadTree():\n",
    "    with open(\"tree.pkl\", \"rb\") as f:\n",
    "        return pkl.load(f)"
   ]
  },
  {
   "cell_type": "code",
   "execution_count": 12,
   "id": "7a6eeeee",
   "metadata": {},
   "outputs": [
    {
     "name": "stdout",
     "output_type": "stream",
     "text": [
      "Trained with params:\n",
      "criterion:entropy   splitter:best   max_depth:9\n"
     ]
    }
   ],
   "source": [
    "saveTree(train(\"entropy\", \"best\", 9), labelEncoderTransformTypes)"
   ]
  },
  {
   "cell_type": "code",
   "execution_count": 22,
   "id": "0d9a6e0a",
   "metadata": {},
   "outputs": [],
   "source": []
  },
  {
   "cell_type": "code",
   "execution_count": 12,
   "id": "fc33d1fc",
   "metadata": {},
   "outputs": [
    {
     "data": {
      "text/plain": [
       "'dtree_render.svg'"
      ]
     },
     "execution_count": 12,
     "metadata": {},
     "output_type": "execute_result"
    }
   ],
   "source": [
    "# export tree\n",
    "import graphviz\n",
    "\n",
    "dot_data = export_graphviz(tree, out_file = None, filled = True, rounded = False)\n",
    "g = graphviz.Source(dot_data)\n",
    "g.format = 'svg'\n",
    "g.render('dtree_render', view=True)"
   ]
  },
  {
   "cell_type": "code",
   "execution_count": 13,
   "id": "e0eb009d",
   "metadata": {},
   "outputs": [],
   "source": [
    "?g.render"
   ]
  },
  {
   "cell_type": "code",
   "execution_count": 7,
   "id": "b4decc8a",
   "metadata": {},
   "outputs": [
    {
     "name": "stdout",
     "output_type": "stream",
     "text": [
      "[8]\n"
     ]
    }
   ],
   "source": [
    "print(labelEncoderTransformTypes[\"category\"].transform([\"misc_net\"]))"
   ]
  },
  {
   "cell_type": "code",
   "execution_count": null,
   "id": "8153191c",
   "metadata": {},
   "outputs": [],
   "source": []
  }
 ],
 "metadata": {
  "kernelspec": {
   "display_name": "Python 3 (ipykernel)",
   "language": "python",
   "name": "python3"
  },
  "language_info": {
   "codemirror_mode": {
    "name": "ipython",
    "version": 3
   },
   "file_extension": ".py",
   "mimetype": "text/x-python",
   "name": "python",
   "nbconvert_exporter": "python",
   "pygments_lexer": "ipython3",
   "version": "3.11.4"
  },
  "vscode": {
   "interpreter": {
    "hash": "4236b1bd8af5c88b200f8ae259f28c355fd90bec7f49eb3a4c44b52c2fc9f9b2"
   }
  }
 },
 "nbformat": 4,
 "nbformat_minor": 5
}
