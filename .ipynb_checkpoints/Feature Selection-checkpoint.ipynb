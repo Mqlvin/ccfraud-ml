{
 "cells": [
  {
   "cell_type": "code",
   "execution_count": 5,
   "id": "4682f809",
   "metadata": {},
   "outputs": [
    {
     "name": "stdout",
     "output_type": "stream",
     "text": [
      "File \"fraudTrain.csv\" loaded...\n",
      "#                                                  \t int64\n",
      "trans_date_trans_time                              \t float64\n",
      "cc_num                                             \t int64\n",
      "merchant                                           \t int32\n",
      "category                                           \t int32\n",
      "amt                                                \t float64\n",
      "gender                                             \t int32\n",
      "state                                              \t int32\n",
      "zip                                                \t int64\n",
      "lat                                                \t float64\n",
      "long                                               \t float64\n",
      "city_pop                                           \t int64\n",
      "dob                                                \t int64\n",
      "unix_time                                          \t int64\n",
      "merch_lat                                          \t float64\n",
      "merch_long                                         \t float64\n"
     ]
    }
   ],
   "source": [
    "import pandas as pd\n",
    "import numpy as np\n",
    "from sklearn.preprocessing import LabelEncoder\n",
    "from sklearn.tree import DecisionTreeClassifier\n",
    "\n",
    "import time\n",
    "import datetime\n",
    "\n",
    "# returns data cols, data, target col, targets\n",
    "def load_ccfraud():\n",
    "    ds = pd.read_csv(\"dataset/fraudTrain.csv\")\n",
    "    print(\"File \\\"fraudTrain.csv\\\" loaded...\")\n",
    "\n",
    "    data_cols = [x for x in ds if x != \"is_fraud\"]\n",
    "    target_col = \"is_fraud\"\n",
    "\n",
    "    return ds, data_cols, [ds[col] for col in data_cols], target_col, ds[target_col]\n",
    "\n",
    "dataframe, data_cols, data, target_col, target = load_ccfraud()\n",
    "\n",
    "\n",
    "\n",
    "labelEncoderTransformTypes = {}\n",
    "\n",
    "# constants\n",
    "const_transac_date_format = \"%Y-%m-%d %H:%M:%S\"\n",
    "# const_dob_format = \"%Y-%m-%d\"\n",
    "def getTransactionDateUnix(string):\n",
    "    return time.mktime(datetime.datetime.strptime(string, const_transac_date_format).timetuple())\n",
    "\n",
    "def getDobFormat(string):\n",
    "    return int(string.replace(\"-\", \"\"))\n",
    "\n",
    "\n",
    "\n",
    "\n",
    "\n",
    "def labelEncode(feature: str, dataframe, map):\n",
    "    le = LabelEncoder()\n",
    "    le.fit(dataframe[feature])\n",
    "    dataframe[feature] = le.transform(dataframe[feature])\n",
    "    map[feature] = le\n",
    "\n",
    "def removeFeature(feature: str):\n",
    "    dataframe.drop(feature, axis = 'columns')\n",
    "    data_cols.remove(feature)\n",
    "\n",
    "\n",
    "labelEncode(\"merchant\", dataframe, labelEncoderTransformTypes)\n",
    "labelEncode(\"category\", dataframe, labelEncoderTransformTypes)\n",
    "removeFeature(\"first\")\n",
    "removeFeature(\"last\")\n",
    "labelEncode(\"gender\", dataframe, labelEncoderTransformTypes)\n",
    "removeFeature(\"street\")\n",
    "removeFeature(\"city\")\n",
    "labelEncode(\"state\", dataframe, labelEncoderTransformTypes)\n",
    "removeFeature(\"trans_num\")\n",
    "removeFeature(\"job\")\n",
    "\n",
    "dataframe[\"trans_date_trans_time\"] = [getTransactionDateUnix(x) for x in dataframe[\"trans_date_trans_time\"]]\n",
    "dataframe[\"dob\"] = [getDobFormat(x) for x in dataframe[\"dob\"]]\n",
    "\n",
    "for x in data_cols:\n",
    "    print(x + (\" \" * (50 - len(x))), \"\\t\", dataframe[x].dtype)"
   ]
  },
  {
   "cell_type": "code",
   "execution_count": 20,
   "id": "43512506",
   "metadata": {},
   "outputs": [
    {
     "name": "stdout",
     "output_type": "stream",
     "text": [
      "cc_num:is_fraud                                                         0.04119116600852455\n",
      "merchant:is_fraud                                                       0.057905674745084644\n",
      "merch_lat:is_fraud                                                      0.10544276138200949\n",
      "lat:is_fraud                                                            0.12168280651386237\n",
      "city_pop:is_fraud                                                       0.1324848614901365\n",
      "state:is_fraud                                                          0.16015566942236642\n",
      "zip:is_fraud                                                            0.23455183808905178\n",
      "merch_long:is_fraud                                                     0.32052657928989636\n",
      "long:is_fraud                                                           0.3209660840481879\n",
      "trans_date_trans_time:is_fraud                                          0.4767185918075516\n",
      "unix_time:is_fraud                                                      0.4767475193174021\n",
      "#:is_fraud                                                              0.47674755326509616\n",
      "gender:is_fraud                                                         0.7641534190320537\n",
      "dob:is_fraud                                                            1.1320164297940578\n",
      "category:is_fraud                                                       1.9713699518539418\n",
      "amt:is_fraud                                                            8.792435760527544\n"
     ]
    }
   ],
   "source": [
    "# calculate the spearmans's correlation between two variables\n",
    "from numpy.random import seed\n",
    "from scipy.stats import spearmanr\n",
    "seed(1)\n",
    "\n",
    "correlations = {}\n",
    "\n",
    "for one in data_cols:\n",
    "    # print(\"a\")\n",
    "    correlations[one + \":\" + target_col] = abs(getCorrelation(dataframe[target_col], dataframe[one]))\n",
    "        \n",
    "correlations = {k: v for k, v in sorted(correlations.items(), key=lambda item: item[1], reverse=True)}\n",
    "        \n",
    "        \n",
    "for pair in correlations:\n",
    "    print(pair, (\" \" * (70 - len(pair))), correlations[pair])\n"
   ]
  },
  {
   "cell_type": "code",
   "execution_count": 7,
   "id": "296e4ead",
   "metadata": {},
   "outputs": [],
   "source": [
    "def getCorrelation(x_arr, y_arr):\n",
    "    stat, pv = spearmanr(x_arr, y_arr)\n",
    "    return stat"
   ]
  },
  {
   "cell_type": "code",
   "execution_count": null,
   "id": "5ddf4b38",
   "metadata": {},
   "outputs": [],
   "source": []
  }
 ],
 "metadata": {
  "kernelspec": {
   "display_name": "Python 3 (ipykernel)",
   "language": "python",
   "name": "python3"
  },
  "language_info": {
   "codemirror_mode": {
    "name": "ipython",
    "version": 3
   },
   "file_extension": ".py",
   "mimetype": "text/x-python",
   "name": "python",
   "nbconvert_exporter": "python",
   "pygments_lexer": "ipython3",
   "version": "3.11.4"
  }
 },
 "nbformat": 4,
 "nbformat_minor": 5
}
