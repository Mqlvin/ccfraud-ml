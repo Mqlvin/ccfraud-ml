{
 "cells": [
  {
   "cell_type": "code",
   "execution_count": 12,
   "id": "efe94883",
   "metadata": {},
   "outputs": [
    {
     "name": "stdout",
     "output_type": "stream",
     "text": [
      "#\n",
      "trans_date_trans_time\n",
      "cc_num\n",
      "merchant\n",
      "category\n",
      "amt\n",
      "first\n",
      "last\n",
      "gender\n",
      "street\n",
      "city\n",
      "state\n",
      "zip\n",
      "lat\n",
      "long\n",
      "city_pop\n",
      "job\n",
      "dob\n",
      "trans_num\n",
      "unix_time\n",
      "merch_lat\n",
      "merch_long\n",
      "is_fraud\n"
     ]
    }
   ],
   "source": [
    "import pandas as pd\n",
    "\n",
    "train = pd.read_csv(\"dataset/fraudTrain.csv\")\n",
    "\n",
    "features = []\n",
    "\n",
    "for feature in train:\n",
    "    print(feature)\n",
    "    features.append(feature)"
   ]
  },
  {
   "cell_type": "code",
   "execution_count": 13,
   "id": "02a91b12",
   "metadata": {},
   "outputs": [
    {
     "name": "stdout",
     "output_type": "stream",
     "text": [
      "['#', 'trans_date_trans_time', 'cc_num', 'merchant', 'category', 'amt', 'first', 'last', 'gender', 'street', 'city', 'state', 'zip', 'lat', 'long', 'city_pop', 'job', 'dob', 'trans_num', 'unix_time', 'merch_lat', 'merch_long', 'is_fraud']\n"
     ]
    }
   ],
   "source": [
    "print(features)"
   ]
  },
  {
   "cell_type": "code",
   "execution_count": 22,
   "id": "ca51b738",
   "metadata": {},
   "outputs": [
    {
     "name": "stdout",
     "output_type": "stream",
     "text": [
      "[0 0 0 ... 0 0 0]\n"
     ]
    }
   ],
   "source": [
    "import pandas as pd\n",
    "import numpy as np\n",
    "\n",
    "ds = pd.read_csv(\"dataset/fraudTrain.csv\")\n",
    "\n",
    "# print(ds.columns)\n",
    "# print(ds.to_numpy())\n",
    "\n",
    "targets = []\n",
    "for i in ds.to_numpy():\n",
    "    targets.append(i[22])\n",
    "print(np.array(targets))"
   ]
  },
  {
   "cell_type": "code",
   "execution_count": 34,
   "id": "079e8f44",
   "metadata": {},
   "outputs": [
    {
     "name": "stdout",
     "output_type": "stream",
     "text": [
      "File \"fraudTrain.csv\" loaded...\n",
      "['#', 'trans_date_trans_time', 'cc_num', 'merchant', 'category', 'amt', 'first', 'last', 'gender', 'street', 'city', 'state', 'zip', 'lat', 'long', 'city_pop', 'job', 'dob', 'trans_num', 'unix_time', 'merch_lat', 'merch_long']\n",
      "[0                0\n",
      "1                1\n",
      "2                2\n",
      "3                3\n",
      "4                4\n",
      "            ...   \n",
      "1296670    1296670\n",
      "1296671    1296671\n",
      "1296672    1296672\n",
      "1296673    1296673\n",
      "1296674    1296674\n",
      "Name: #, Length: 1296675, dtype: int64, 0          2019-01-01 00:00:18\n",
      "1          2019-01-01 00:00:44\n",
      "2          2019-01-01 00:00:51\n",
      "3          2019-01-01 00:01:16\n",
      "4          2019-01-01 00:03:06\n",
      "                  ...         \n",
      "1296670    2020-06-21 12:12:08\n",
      "1296671    2020-06-21 12:12:19\n",
      "1296672    2020-06-21 12:12:32\n",
      "1296673    2020-06-21 12:13:36\n",
      "1296674    2020-06-21 12:13:37\n",
      "Name: trans_date_trans_time, Length: 1296675, dtype: object, 0             2703186189652095\n",
      "1                 630423337322\n",
      "2               38859492057661\n",
      "3             3534093764340240\n",
      "4              375534208663984\n",
      "                  ...         \n",
      "1296670         30263540414123\n",
      "1296671       6011149206456997\n",
      "1296672       3514865930894695\n",
      "1296673       2720012583106919\n",
      "1296674    4292902571056973207\n",
      "Name: cc_num, Length: 1296675, dtype: int64, 0                   fraud_Rippin, Kub and Mann\n",
      "1              fraud_Heller, Gutmann and Zieme\n",
      "2                         fraud_Lind-Buckridge\n",
      "3           fraud_Kutch, Hermiston and Farrell\n",
      "4                          fraud_Keeling-Crist\n",
      "                          ...                 \n",
      "1296670                      fraud_Reichel Inc\n",
      "1296671               fraud_Abernathy and Sons\n",
      "1296672                   fraud_Stiedemann Ltd\n",
      "1296673    fraud_Reinger, Weissnat and Strosin\n",
      "1296674    fraud_Langosh, Wintheiser and Hyatt\n",
      "Name: merchant, Length: 1296675, dtype: object, 0               misc_net\n",
      "1            grocery_pos\n",
      "2          entertainment\n",
      "3          gas_transport\n",
      "4               misc_pos\n",
      "               ...      \n",
      "1296670    entertainment\n",
      "1296671      food_dining\n",
      "1296672      food_dining\n",
      "1296673      food_dining\n",
      "1296674      food_dining\n",
      "Name: category, Length: 1296675, dtype: object, 0            4.97\n",
      "1          107.23\n",
      "2          220.11\n",
      "3           45.00\n",
      "4           41.96\n",
      "            ...  \n",
      "1296670     15.56\n",
      "1296671     51.70\n",
      "1296672    105.93\n",
      "1296673     74.90\n",
      "1296674      4.30\n",
      "Name: amt, Length: 1296675, dtype: float64, 0             Jennifer\n",
      "1            Stephanie\n",
      "2               Edward\n",
      "3               Jeremy\n",
      "4                Tyler\n",
      "              ...     \n",
      "1296670           Erik\n",
      "1296671        Jeffrey\n",
      "1296672    Christopher\n",
      "1296673         Joseph\n",
      "1296674        Jeffrey\n",
      "Name: first, Length: 1296675, dtype: object, 0              Banks\n",
      "1               Gill\n",
      "2            Sanchez\n",
      "3              White\n",
      "4             Garcia\n",
      "             ...    \n",
      "1296670    Patterson\n",
      "1296671        White\n",
      "1296672    Castaneda\n",
      "1296673       Murray\n",
      "1296674        Smith\n",
      "Name: last, Length: 1296675, dtype: object, 0          F\n",
      "1          F\n",
      "2          M\n",
      "3          M\n",
      "4          M\n",
      "          ..\n",
      "1296670    M\n",
      "1296671    M\n",
      "1296672    M\n",
      "1296673    M\n",
      "1296674    M\n",
      "Name: gender, Length: 1296675, dtype: object, 0                         561 Perry Cove\n",
      "1           43039 Riley Greens Suite 393\n",
      "2               594 White Dale Suite 530\n",
      "3            9443 Cynthia Court Apt. 038\n",
      "4                       408 Bradley Rest\n",
      "                       ...              \n",
      "1296670         162 Jessica Row Apt. 072\n",
      "1296671    8617 Holmes Terrace Suite 651\n",
      "1296672       1632 Cohen Drive Suite 639\n",
      "1296673             42933 Ryan Underpass\n",
      "1296674             135 Joseph Mountains\n",
      "Name: street, Length: 1296675, dtype: object, 0                    Moravian Falls\n",
      "1                            Orient\n",
      "2                        Malad City\n",
      "3                           Boulder\n",
      "4                          Doe Hill\n",
      "                     ...           \n",
      "1296670                       Hatch\n",
      "1296671                   Tuscarora\n",
      "1296672    High Rolls Mountain Park\n",
      "1296673                   Manderson\n",
      "1296674                        Sula\n",
      "Name: city, Length: 1296675, dtype: object, 0          NC\n",
      "1          WA\n",
      "2          ID\n",
      "3          MT\n",
      "4          VA\n",
      "           ..\n",
      "1296670    UT\n",
      "1296671    MD\n",
      "1296672    NM\n",
      "1296673    SD\n",
      "1296674    MT\n",
      "Name: state, Length: 1296675, dtype: object, 0          28654\n",
      "1          99160\n",
      "2          83252\n",
      "3          59632\n",
      "4          24433\n",
      "           ...  \n",
      "1296670    84735\n",
      "1296671    21790\n",
      "1296672    88325\n",
      "1296673    57756\n",
      "1296674    59871\n",
      "Name: zip, Length: 1296675, dtype: int64, 0          36.0788\n",
      "1          48.8878\n",
      "2          42.1808\n",
      "3          46.2306\n",
      "4          38.4207\n",
      "            ...   \n",
      "1296670    37.7175\n",
      "1296671    39.2667\n",
      "1296672    32.9396\n",
      "1296673    43.3526\n",
      "1296674    45.8433\n",
      "Name: lat, Length: 1296675, dtype: float64, 0          -81.1781\n",
      "1         -118.2105\n",
      "2         -112.2620\n",
      "3         -112.1138\n",
      "4          -79.4629\n",
      "             ...   \n",
      "1296670   -112.4777\n",
      "1296671    -77.5101\n",
      "1296672   -105.8189\n",
      "1296673   -102.5411\n",
      "1296674   -113.8748\n",
      "Name: long, Length: 1296675, dtype: float64, 0          3495\n",
      "1           149\n",
      "2          4154\n",
      "3          1939\n",
      "4            99\n",
      "           ... \n",
      "1296670     258\n",
      "1296671     100\n",
      "1296672     899\n",
      "1296673    1126\n",
      "1296674     218\n",
      "Name: city_pop, Length: 1296675, dtype: int64, 0                  Psychologist, counselling\n",
      "1          Special educational needs teacher\n",
      "2                Nature conservation officer\n",
      "3                            Patent attorney\n",
      "4             Dance movement psychotherapist\n",
      "                         ...                \n",
      "1296670                         Geoscientist\n",
      "1296671     Production assistant, television\n",
      "1296672                      Naval architect\n",
      "1296673                Volunteer coordinator\n",
      "1296674             Therapist, horticultural\n",
      "Name: job, Length: 1296675, dtype: object, 0          1988-03-09\n",
      "1          1978-06-21\n",
      "2          1962-01-19\n",
      "3          1967-01-12\n",
      "4          1986-03-28\n",
      "              ...    \n",
      "1296670    1961-11-24\n",
      "1296671    1979-12-11\n",
      "1296672    1967-08-30\n",
      "1296673    1980-08-18\n",
      "1296674    1995-08-16\n",
      "Name: dob, Length: 1296675, dtype: object, 0          0b242abb623afc578575680df30655b9\n",
      "1          1f76529f8574734946361c461b024d99\n",
      "2          a1a22d70485983eac12b5b88dad1cf95\n",
      "3          6b849c168bdad6f867558c3793159a81\n",
      "4          a41d7549acf90789359a9aa5346dcb46\n",
      "                         ...               \n",
      "1296670    440b587732da4dc1a6395aba5fb41669\n",
      "1296671    278000d2e0d2277d1de2f890067dcc0a\n",
      "1296672    483f52fe67fabef353d552c1e662974c\n",
      "1296673    d667cdcbadaaed3da3f4020e83591c83\n",
      "1296674    8f7c8e4ab7f25875d753b422917c98c9\n",
      "Name: trans_num, Length: 1296675, dtype: object, 0          1325376018\n",
      "1          1325376044\n",
      "2          1325376051\n",
      "3          1325376076\n",
      "4          1325376186\n",
      "              ...    \n",
      "1296670    1371816728\n",
      "1296671    1371816739\n",
      "1296672    1371816752\n",
      "1296673    1371816816\n",
      "1296674    1371816817\n",
      "Name: unix_time, Length: 1296675, dtype: int64, 0          36.011293\n",
      "1          49.159047\n",
      "2          43.150704\n",
      "3          47.034331\n",
      "4          38.674999\n",
      "             ...    \n",
      "1296670    36.841266\n",
      "1296671    38.906881\n",
      "1296672    33.619513\n",
      "1296673    42.788940\n",
      "1296674    46.565983\n",
      "Name: merch_lat, Length: 1296675, dtype: float64, 0          -82.048315\n",
      "1         -118.186462\n",
      "2         -112.154481\n",
      "3         -112.561071\n",
      "4          -78.632459\n",
      "              ...    \n",
      "1296670   -111.690765\n",
      "1296671    -78.246528\n",
      "1296672   -105.130529\n",
      "1296673   -103.241160\n",
      "1296674   -114.186110\n",
      "Name: merch_long, Length: 1296675, dtype: float64]\n"
     ]
    }
   ],
   "source": [
    "import pandas as pd\n",
    "import numpy as np\n",
    "\n",
    "# returns data cols, data, target col, targets\n",
    "def load_ccfraud():\n",
    "    ds = pd.read_csv(\"dataset/fraudTrain.csv\")\n",
    "    print(\"File \\\"fraudTrain.csv\\\" loaded...\")\n",
    "\n",
    "    data_cols = [x for x in ds if x != \"is_fraud\"]\n",
    "    target_col = \"is_fraud\"\n",
    "\n",
    "    return ds, data_cols, [ds[col] for col in data_cols], target_col, ds[target_col]\n",
    "\n",
    "dataframe, data_cols, data, target_col, target = load_ccfraud()\n",
    "\n",
    "print(data_cols)\n",
    "print(data)"
   ]
  },
  {
   "cell_type": "code",
   "execution_count": 36,
   "id": "d5993ac2",
   "metadata": {},
   "outputs": [
    {
     "name": "stdout",
     "output_type": "stream",
     "text": [
      "# \t\t int64\n",
      "trans_date_trans_time \t\t object\n",
      "cc_num \t\t int64\n",
      "merchant \t\t object\n",
      "category \t\t object\n",
      "amt \t\t float64\n",
      "first \t\t object\n",
      "last \t\t object\n",
      "gender \t\t object\n",
      "street \t\t object\n",
      "city \t\t object\n",
      "state \t\t object\n",
      "zip \t\t int64\n",
      "lat \t\t float64\n",
      "long \t\t float64\n",
      "city_pop \t\t int64\n",
      "job \t\t object\n",
      "dob \t\t object\n",
      "trans_num \t\t object\n",
      "unix_time \t\t int64\n",
      "merch_lat \t\t float64\n",
      "merch_long \t\t float64\n"
     ]
    }
   ],
   "source": [
    "for x in data_cols:\n",
    "    print(x, \"\\t\\t\", dataframe[x].dtype)"
   ]
  },
  {
   "cell_type": "code",
   "execution_count": 40,
   "id": "f609cd77",
   "metadata": {},
   "outputs": [
    {
     "name": "stdout",
     "output_type": "stream",
     "text": [
      "1592738065.0\n"
     ]
    }
   ],
   "source": [
    "import datetime\n",
    "import time\n",
    "\n",
    "const_date_format = \"%Y-%m-%d %H:%M:%S\"\n",
    "print(time.mktime(datetime.datetime.strptime(\"2020-06-21 12:14:25\", const_date_format).timetuple()))"
   ]
  },
  {
   "cell_type": "code",
   "execution_count": 57,
   "id": "e8a761eb",
   "metadata": {},
   "outputs": [
    {
     "ename": "OSError",
     "evalue": "[Errno 22] Invalid argument",
     "output_type": "error",
     "traceback": [
      "\u001b[1;31m---------------------------------------------------------------------------\u001b[0m",
      "\u001b[1;31mOSError\u001b[0m                                   Traceback (most recent call last)",
      "Cell \u001b[1;32mIn[57], line 3\u001b[0m\n\u001b[0;32m      1\u001b[0m testtimestamp \u001b[38;5;241m=\u001b[39m \u001b[38;5;124m\"\u001b[39m\u001b[38;5;124m1930-06-30\u001b[39m\u001b[38;5;124m\"\u001b[39m\n\u001b[1;32m----> 3\u001b[0m \u001b[38;5;28mprint\u001b[39m(\u001b[43mdatetime\u001b[49m\u001b[38;5;241;43m.\u001b[39;49m\u001b[43mfromisoformat\u001b[49m\u001b[43m(\u001b[49m\u001b[38;5;124;43m\"\u001b[39;49m\u001b[38;5;124;43m1969-01-02\u001b[39;49m\u001b[38;5;124;43m\"\u001b[39;49m\u001b[43m)\u001b[49m\u001b[38;5;241;43m.\u001b[39;49m\u001b[43mtimestamp\u001b[49m\u001b[43m(\u001b[49m\u001b[43m)\u001b[49m)\n",
      "\u001b[1;31mOSError\u001b[0m: [Errno 22] Invalid argument"
     ]
    }
   ],
   "source": [
    "testtimestamp = \"1930-06-30\"\n",
    "\n",
    "print(datetime.fromisoformat(\"1969-01-02\").timestamp())"
   ]
  },
  {
   "cell_type": "code",
   "execution_count": 48,
   "id": "d42e01f2",
   "metadata": {},
   "outputs": [],
   "source": [
    "from datetime import datetime"
   ]
  },
  {
   "cell_type": "code",
   "execution_count": 63,
   "id": "e930457c",
   "metadata": {},
   "outputs": [
    {
     "ename": "SyntaxError",
     "evalue": "unterminated string literal (detected at line 6) (2837019478.py, line 6)",
     "output_type": "error",
     "traceback": [
      "\u001b[1;36m  Cell \u001b[1;32mIn[63], line 6\u001b[1;36m\u001b[0m\n\u001b[1;33m    print(date.strptime(\"1930-06-13\", \"%Y-%m-%d).timestamp())\u001b[0m\n\u001b[1;37m                                      ^\u001b[0m\n\u001b[1;31mSyntaxError\u001b[0m\u001b[1;31m:\u001b[0m unterminated string literal (detected at line 6)\n"
     ]
    }
   ],
   "source": [
    "from datetime import datetime, timedelta\n",
    "date = datetime(1970, 1, 1) + timedelta(seconds=-216345600)\n",
    "# print(date.timestamp())\n",
    "\n",
    "datetime(1963, 2, 23, 0, 0)\n",
    "print(date.strptime(\"1930-06-13\", \"%Y-%m-%d\").timestamp())"
   ]
  },
  {
   "cell_type": "code",
   "execution_count": 66,
   "id": "2ba88eed",
   "metadata": {},
   "outputs": [
    {
     "ename": "NameError",
     "evalue": "name 'imedelta' is not defined",
     "output_type": "error",
     "traceback": [
      "\u001b[1;31m---------------------------------------------------------------------------\u001b[0m",
      "\u001b[1;31mNameError\u001b[0m                                 Traceback (most recent call last)",
      "Cell \u001b[1;32mIn[66], line 1\u001b[0m\n\u001b[1;32m----> 1\u001b[0m datetime(\u001b[38;5;241m1970\u001b[39m, \u001b[38;5;241m1\u001b[39m, \u001b[38;5;241m1\u001b[39m) \u001b[38;5;241m+\u001b[39m \u001b[43mimedelta\u001b[49m(seconds\u001b[38;5;241m=\u001b[39m\u001b[38;5;241m-\u001b[39m\u001b[38;5;241m2082816000\u001b[39m)\n\u001b[0;32m      2\u001b[0m \u001b[38;5;28mprint\u001b[39m(datetime(\u001b[38;5;241m1904\u001b[39m, \u001b[38;5;241m1\u001b[39m, \u001b[38;5;241m1\u001b[39m, \u001b[38;5;241m8\u001b[39m, \u001b[38;5;241m0\u001b[39m))\n",
      "\u001b[1;31mNameError\u001b[0m: name 'imedelta' is not defined"
     ]
    }
   ],
   "source": [
    "datetime(1970, 1, 1) + timedelta(seconds=-2082816000)\n",
    "print(datetime(1904, 1, 1, 8, 0))"
   ]
  },
  {
   "cell_type": "code",
   "execution_count": null,
   "id": "ea1cd106",
   "metadata": {},
   "outputs": [],
   "source": []
  }
 ],
 "metadata": {
  "kernelspec": {
   "display_name": "Python 3 (ipykernel)",
   "language": "python",
   "name": "python3"
  },
  "language_info": {
   "codemirror_mode": {
    "name": "ipython",
    "version": 3
   },
   "file_extension": ".py",
   "mimetype": "text/x-python",
   "name": "python",
   "nbconvert_exporter": "python",
   "pygments_lexer": "ipython3",
   "version": "3.11.4"
  }
 },
 "nbformat": 4,
 "nbformat_minor": 5
}
