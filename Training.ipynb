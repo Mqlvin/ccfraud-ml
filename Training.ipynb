{
 "cells": [
  {
   "cell_type": "code",
   "execution_count": 2,
   "id": "ecea566d",
   "metadata": {},
   "outputs": [
    {
     "name": "stdout",
     "output_type": "stream",
     "text": [
      "File \"fraudTrain.csv\" loaded...\n",
      "#                                                  \t int64\n",
      "trans_date_trans_time                              \t float64\n",
      "cc_num                                             \t int64\n",
      "merchant                                           \t int32\n",
      "category                                           \t int32\n",
      "amt                                                \t float64\n",
      "gender                                             \t int32\n",
      "state                                              \t int32\n",
      "zip                                                \t int64\n",
      "lat                                                \t float64\n",
      "long                                               \t float64\n",
      "city_pop                                           \t int64\n",
      "dob                                                \t int64\n",
      "unix_time                                          \t int64\n",
      "merch_lat                                          \t float64\n",
      "merch_long                                         \t float64\n"
     ]
    }
   ],
   "source": [
    "import pandas as pd\n",
    "import numpy as np\n",
    "from sklearn.preprocessing import LabelEncoder\n",
    "from sklearn.tree import DecisionTreeClassifier, export_graphviz\n",
    "\n",
    "import time\n",
    "import datetime\n",
    "\n",
    "# returns data cols, data, target col, targets\n",
    "def load_ccfraud():\n",
    "    ds = pd.read_csv(\"dataset/fraudTrain.csv\")\n",
    "    print(\"File \\\"fraudTrain.csv\\\" loaded...\")\n",
    "\n",
    "    data_cols = [x for x in ds if x != \"is_fraud\"]\n",
    "    target_col = \"is_fraud\"\n",
    "\n",
    "    return ds, data_cols, [ds[col] for col in data_cols], target_col, ds[target_col]\n",
    "\n",
    "dataframe, data_cols, data, target_col, target = load_ccfraud()\n",
    "\n",
    "\n",
    "\n",
    "labelEncoderTransformTypes = {}\n",
    "\n",
    "# constants\n",
    "const_transac_date_format = \"%Y-%m-%d %H:%M:%S\"\n",
    "# const_dob_format = \"%Y-%m-%d\"\n",
    "def getTransactionDateUnix(string):\n",
    "    return time.mktime(datetime.datetime.strptime(string, const_transac_date_format).timetuple())\n",
    "\n",
    "def getDobFormat(string):\n",
    "    return int(string.replace(\"-\", \"\"))\n",
    "\n",
    "\n",
    "\n",
    "\n",
    "\n",
    "def labelEncode(feature: str, dataframe, map):\n",
    "    le = LabelEncoder()\n",
    "    le.fit(dataframe[feature])\n",
    "    dataframe[feature] = le.transform(dataframe[feature])\n",
    "    map[feature] = le\n",
    "\n",
    "def removeFeature(feature: str):\n",
    "    dataframe.drop(feature, axis = 'columns')\n",
    "    data_cols.remove(feature)\n",
    "\n",
    "\n",
    "labelEncode(\"merchant\", dataframe, labelEncoderTransformTypes)\n",
    "labelEncode(\"category\", dataframe, labelEncoderTransformTypes)\n",
    "removeFeature(\"first\")\n",
    "removeFeature(\"last\")\n",
    "labelEncode(\"gender\", dataframe, labelEncoderTransformTypes)\n",
    "removeFeature(\"street\")\n",
    "removeFeature(\"city\")\n",
    "labelEncode(\"state\", dataframe, labelEncoderTransformTypes)\n",
    "removeFeature(\"trans_num\")\n",
    "removeFeature(\"job\")\n",
    "\n",
    "dataframe[\"trans_date_trans_time\"] = [getTransactionDateUnix(x) for x in dataframe[\"trans_date_trans_time\"]]\n",
    "dataframe[\"dob\"] = [getDobFormat(x) for x in dataframe[\"dob\"]]\n",
    "\n",
    "for x in data_cols:\n",
    "    print(x + (\" \" * (50 - len(x))), \"\\t\", dataframe[x].dtype)"
   ]
  },
  {
   "cell_type": "code",
   "execution_count": 3,
   "id": "4e1e4fd7",
   "metadata": {},
   "outputs": [],
   "source": [
    "def train(criterion, splitter, max_depth):\n",
    "    clf = DecisionTreeClassifier(criterion = criterion, splitter = splitter, max_depth = max_depth, random_state = 0)\n",
    "    clf.fit(dataframe[data_cols], target)\n",
    "    print(\"Trained with params:\\ncriterion:\" + criterion + \"   splitter:\" + splitter + \"   max_depth:\" + str(max_depth))\n",
    "    \n",
    "    return clf"
   ]
  },
  {
   "cell_type": "code",
   "execution_count": 18,
   "id": "80f4220d",
   "metadata": {},
   "outputs": [
    {
     "name": "stdout",
     "output_type": "stream",
     "text": [
      "Loaded and transformed test dataframe...\n"
     ]
    }
   ],
   "source": [
    "from sklearn.metrics import accuracy_score, precision_score, recall_score, f1_score\n",
    "\n",
    "dataframe_test = pd.read_csv(\"dataset/fraudTest.csv\")\n",
    "\n",
    "\n",
    "for feature in labelEncoderTransformTypes:\n",
    "    dataframe_test[feature] = labelEncoderTransformTypes[feature].transform(dataframe_test[feature])\n",
    "    \n",
    "dataframe_test[\"trans_date_trans_time\"] = [getTransactionDateUnix(x) for x in dataframe_test[\"trans_date_trans_time\"]]\n",
    "dataframe_test[\"dob\"] = [getDobFormat(x) for x in dataframe_test[\"dob\"]]\n",
    "\n",
    "print(\"Loaded and transformed test dataframe...\")"
   ]
  },
  {
   "cell_type": "code",
   "execution_count": 4,
   "id": "09e0eaa1",
   "metadata": {},
   "outputs": [],
   "source": [
    "# Performance test\n",
    "\n",
    "def formatNumber(float):\n",
    "    return round(float * 100, 3)\n",
    "\n",
    "def performanceTest(classifier):\n",
    "    y_test = dataframe_test[target_col]\n",
    "\n",
    "    y_pred = classifier.predict(dataframe_test[[x for x in data_cols]])\n",
    "\n",
    "    print(\"\\nAccuracy score: \", formatNumber(accuracy_score(y_test, y_pred)))\n",
    "    print(\"Precision score: \", formatNumber(precision_score(y_test, y_pred, average = \"macro\")))\n",
    "    print(\"Recall score: \", formatNumber(recall_score(y_test, y_pred, average = \"macro\")))\n",
    "    print(\"F1 score: \", formatNumber(f1_score(y_test, y_pred, average = \"macro\")))"
   ]
  },
  {
   "cell_type": "code",
   "execution_count": 65,
   "id": "e73b6afb",
   "metadata": {},
   "outputs": [
    {
     "name": "stdout",
     "output_type": "stream",
     "text": [
      "Trained with params:\n",
      "criterion:log_loss   splitter:best   max_depth:9\n",
      "\n",
      "Accuracy score:  99.781\n",
      "Precision score:  86.525\n",
      "Recall score:  84.031\n",
      "F1 score:  85.233\n"
     ]
    }
   ],
   "source": [
    "performanceTest(train(\"log_loss\", \"best\", 9))"
   ]
  },
  {
   "cell_type": "code",
   "execution_count": 6,
   "id": "829d9cca",
   "metadata": {},
   "outputs": [
    {
     "data": {
      "text/plain": [
       "'dtree_render.svg'"
      ]
     },
     "execution_count": 6,
     "metadata": {},
     "output_type": "execute_result"
    }
   ],
   "source": [
    "# export tree\n",
    "import graphviz\n",
    "\n",
    "dot_data = export_graphviz(tree, out_file = None, filled = True, rounded = False)\n",
    "g = graphviz.Source(dot_data)\n",
    "g.format = 'svg'\n",
    "g.render('dtree_render', view=True)"
   ]
  },
  {
   "cell_type": "code",
   "execution_count": 5,
   "id": "d93a8572",
   "metadata": {},
   "outputs": [
    {
     "name": "stdout",
     "output_type": "stream",
     "text": [
      "Trained with params:\n",
      "criterion:gini   splitter:best   max_depth:None\n"
     ]
    }
   ],
   "source": [
    "tree = train(\"gini\", \"best\", None)"
   ]
  },
  {
   "cell_type": "code",
   "execution_count": null,
   "id": "0be56509",
   "metadata": {},
   "outputs": [],
   "source": []
  }
 ],
 "metadata": {
  "kernelspec": {
   "display_name": "Python 3 (ipykernel)",
   "language": "python",
   "name": "python3"
  },
  "language_info": {
   "codemirror_mode": {
    "name": "ipython",
    "version": 3
   },
   "file_extension": ".py",
   "mimetype": "text/x-python",
   "name": "python",
   "nbconvert_exporter": "python",
   "pygments_lexer": "ipython3",
   "version": "3.11.4"
  }
 },
 "nbformat": 4,
 "nbformat_minor": 5
}
